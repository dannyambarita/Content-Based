{
 "cells": [
  {
   "cell_type": "code",
   "execution_count": 2,
   "metadata": {},
   "outputs": [],
   "source": [
    "import pandas as pd\n",
    "import numpy as np\n",
    "from sklearn.metrics.pairwise import cosine_similarity\n",
    "from sklearn.feature_extraction.text import TfidfVectorizer\n",
    "from nltk.corpus import stopwords\n",
    "import re\n",
    "import random"
   ]
  },
  {
   "cell_type": "code",
   "execution_count": 3,
   "metadata": {},
   "outputs": [
    {
     "data": {
      "text/html": [
       "<div>\n",
       "<style scoped>\n",
       "    .dataframe tbody tr th:only-of-type {\n",
       "        vertical-align: middle;\n",
       "    }\n",
       "\n",
       "    .dataframe tbody tr th {\n",
       "        vertical-align: top;\n",
       "    }\n",
       "\n",
       "    .dataframe thead th {\n",
       "        text-align: right;\n",
       "    }\n",
       "</style>\n",
       "<table border=\"1\" class=\"dataframe\">\n",
       "  <thead>\n",
       "    <tr style=\"text-align: right;\">\n",
       "      <th></th>\n",
       "      <th>nama</th>\n",
       "      <th>alamat</th>\n",
       "      <th>deskripsi</th>\n",
       "    </tr>\n",
       "  </thead>\n",
       "  <tbody>\n",
       "    <tr>\n",
       "      <th>0</th>\n",
       "      <td>Capital O 253 Topas Galeria Hotel</td>\n",
       "      <td>Jl. Dr. Djundjunan No. 153, 40173 Bandung, Ind...</td>\n",
       "      <td>Berjarak 10 menit berkendara dari Bandara Inte...</td>\n",
       "    </tr>\n",
       "    <tr>\n",
       "      <th>1</th>\n",
       "      <td>Sheraton Bandung Hotel &amp; Towers</td>\n",
       "      <td>Jl. Ir H Juanda 390, 40135 Bandung, Indonesia</td>\n",
       "      <td>Sheraton Hotel &amp; Towers menawarkan akomodasi b...</td>\n",
       "    </tr>\n",
       "    <tr>\n",
       "      <th>2</th>\n",
       "      <td>OYO 794 Ln 9 Bandung Residence</td>\n",
       "      <td>Jalan Lemahnendeut No 9, Sukajadi, 40164 Bandu...</td>\n",
       "      <td>Berlokasi nyaman di Sukajadi, Bandung, OYO 794...</td>\n",
       "    </tr>\n",
       "    <tr>\n",
       "      <th>3</th>\n",
       "      <td>OYO 226 LJ hotel</td>\n",
       "      <td>Jl. Malabar No.2, Malabar, Lengkong, Dago, Asi...</td>\n",
       "      <td>OYO 226 LJ hotel di Bandung, Jawa Barat, tepat...</td>\n",
       "    </tr>\n",
       "    <tr>\n",
       "      <th>4</th>\n",
       "      <td>OYO 230 Maleo Residence</td>\n",
       "      <td>JI. Dangeur Indah II No. 15, Sukagalih, Sukaja...</td>\n",
       "      <td>OYO 230 Maleo Residence menawarkan akomodasi b...</td>\n",
       "    </tr>\n",
       "  </tbody>\n",
       "</table>\n",
       "</div>"
      ],
      "text/plain": [
       "                                nama  \\\n",
       "0  Capital O 253 Topas Galeria Hotel   \n",
       "1    Sheraton Bandung Hotel & Towers   \n",
       "2     OYO 794 Ln 9 Bandung Residence   \n",
       "3                   OYO 226 LJ hotel   \n",
       "4            OYO 230 Maleo Residence   \n",
       "\n",
       "                                              alamat  \\\n",
       "0  Jl. Dr. Djundjunan No. 153, 40173 Bandung, Ind...   \n",
       "1      Jl. Ir H Juanda 390, 40135 Bandung, Indonesia   \n",
       "2  Jalan Lemahnendeut No 9, Sukajadi, 40164 Bandu...   \n",
       "3  Jl. Malabar No.2, Malabar, Lengkong, Dago, Asi...   \n",
       "4  JI. Dangeur Indah II No. 15, Sukagalih, Sukaja...   \n",
       "\n",
       "                                           deskripsi  \n",
       "0  Berjarak 10 menit berkendara dari Bandara Inte...  \n",
       "1  Sheraton Hotel & Towers menawarkan akomodasi b...  \n",
       "2  Berlokasi nyaman di Sukajadi, Bandung, OYO 794...  \n",
       "3  OYO 226 LJ hotel di Bandung, Jawa Barat, tepat...  \n",
       "4  OYO 230 Maleo Residence menawarkan akomodasi b...  "
      ]
     },
     "execution_count": 3,
     "metadata": {},
     "output_type": "execute_result"
    }
   ],
   "source": [
    "data = pd.read_csv('hotel.csv')\n",
    "data.head()"
   ]
  },
  {
   "cell_type": "code",
   "execution_count": 4,
   "metadata": {},
   "outputs": [
    {
     "name": "stdout",
     "output_type": "stream",
     "text": [
      "<class 'pandas.core.frame.DataFrame'>\n",
      "RangeIndex: 90 entries, 0 to 89\n",
      "Data columns (total 3 columns):\n",
      " #   Column     Non-Null Count  Dtype \n",
      "---  ------     --------------  ----- \n",
      " 0   nama       90 non-null     object\n",
      " 1   alamat     90 non-null     object\n",
      " 2   deskripsi  90 non-null     object\n",
      "dtypes: object(3)\n",
      "memory usage: 2.2+ KB\n"
     ]
    }
   ],
   "source": [
    "data.describe()\n",
    "data.info()"
   ]
  },
  {
   "cell_type": "code",
   "execution_count": 5,
   "metadata": {},
   "outputs": [],
   "source": [
    "clean_spcl = re.compile('[/(){}\\[\\]\\|@,;]')\n",
    "clean_symbol = re.compile('[^0-9a-z #+_]')\n",
    "stopworda = set(stopwords.words('english'))\n",
    "\n",
    "def clean_text(text):\n",
    "    text = text.lower() \n",
    "    text = clean_spcl.sub(' ', text)\n",
    "    text = clean_symbol.sub('', text)\n",
    "    text = ' '.join(word for word in text.split() if word not in stopworda) # hapus stopword dari kolom deskripsi\n",
    "    return text\n",
    "\n",
    "# Buat kolom tambahan untuk data description yang telah dibersihkan   \n",
    "data['deskripsi_new'] = data['deskripsi'].apply(clean_text)"
   ]
  },
  {
   "cell_type": "code",
   "execution_count": 6,
   "metadata": {},
   "outputs": [
    {
     "name": "stderr",
     "output_type": "stream",
     "text": [
      "[nltk_data] Downloading package stopwords to\n",
      "[nltk_data]     C:\\Users\\Danny\\AppData\\Roaming\\nltk_data...\n",
      "[nltk_data]   Package stopwords is already up-to-date!\n"
     ]
    },
    {
     "data": {
      "text/plain": [
       "True"
      ]
     },
     "execution_count": 6,
     "metadata": {},
     "output_type": "execute_result"
    }
   ],
   "source": [
    "import nltk\n",
    "nltk.download('stopwords')"
   ]
  },
  {
   "cell_type": "code",
   "execution_count": 7,
   "metadata": {},
   "outputs": [],
   "source": [
    "def pt_desc(index):\n",
    "    example = data[data.index == index][['deskripsi_new', 'nama', 'alamat']].values[0]\n",
    "    if len(example) > 0:\n",
    "        print(example[0])\n",
    "        print('Nama:', example[1])\n",
    "        print('Alamat:', example[2])   "
   ]
  },
  {
   "cell_type": "code",
   "execution_count": 8,
   "metadata": {},
   "outputs": [
    {
     "name": "stdout",
     "output_type": "stream",
     "text": [
      "sheraton hotel towers menawarkan akomodasi bintang 5 di tengah lanskap hijau di bandung semua kamar yang luas dilengkapi tv kabel layar datar hotel ini menawarkan kolam renang outdoor pusat spa dan restoran dengan pemandangan gunung akses wifi tersedia gratis di seluruh area hotel kamarkamar elegan memiliki interior modern perabotan dari kayu ringan dan jendelajendela besar masingmasing menyediakan area tempat duduk yang nyaman pemutar dvd dan kamar mandi pribadi dengan shower anda dapat berolahraga di gym atau menikmati perawatan tubuh di spa staf resepsionis siap melayani kebutuhan anda selama 24 jam aneka hidangan internasional dan asia ditawarkan di feast restaurant sementara minuman ringan disajikan di samsara lounge berbagai koktail dan makanan ringan juga tersedia di poolside terrace sheraton bandung hotel towers berselang 10 menit berkendara dari juanda culture park dan daerah dago tempat berbagai factory outlet bandara husein sastranegara dapat ditempuh dengan 30 menit berkendara\n",
      "Nama: Sheraton Bandung Hotel & Towers\n",
      "Alamat: Jl. Ir H Juanda 390, 40135 Bandung, Indonesia\n"
     ]
    }
   ],
   "source": [
    "pt_desc(1)"
   ]
  },
  {
   "cell_type": "code",
   "execution_count": 9,
   "metadata": {},
   "outputs": [
    {
     "data": {
      "text/plain": [
       "array([[1.        , 0.07106689, 0.03075961, ..., 0.07474134, 0.0732575 ,\n",
       "        0.01680878],\n",
       "       [0.07106689, 1.        , 0.03508807, ..., 0.05947269, 0.08705608,\n",
       "        0.01986701],\n",
       "       [0.03075961, 0.03508807, 1.        , ..., 0.09113962, 0.05879732,\n",
       "        0.06808138],\n",
       "       ...,\n",
       "       [0.07474134, 0.05947269, 0.09113962, ..., 1.        , 0.06321301,\n",
       "        0.02205802],\n",
       "       [0.0732575 , 0.08705608, 0.05879732, ..., 0.06321301, 1.        ,\n",
       "        0.02245328],\n",
       "       [0.01680878, 0.01986701, 0.06808138, ..., 0.02205802, 0.02245328,\n",
       "        1.        ]])"
      ]
     },
     "execution_count": 9,
     "metadata": {},
     "output_type": "execute_result"
    }
   ],
   "source": [
    "data.set_index('nama', inplace=True)\n",
    "tf = TfidfVectorizer(analyzer='word', ngram_range=(1, 3), min_df=0, stop_words='english')\n",
    "tfidf_matrix = tf.fit_transform(data['deskripsi_new'])\n",
    "cos_sim = cosine_similarity(tfidf_matrix, tfidf_matrix)\n",
    "cos_sim"
   ]
  },
  {
   "cell_type": "code",
   "execution_count": 10,
   "metadata": {},
   "outputs": [
    {
     "data": {
      "text/plain": [
       "0                Capital O 253 Topas Galeria Hotel\n",
       "1                  Sheraton Bandung Hotel & Towers\n",
       "2                   OYO 794 Ln 9 Bandung Residence\n",
       "3                                 OYO 226 LJ hotel\n",
       "4                          OYO 230 Maleo Residence\n",
       "5                        OYO 167 Dago's Hill Hotel\n",
       "6                   OYO 794 Ln 9 Bandung Residence\n",
       "7                       OYO 196 Horizone Residence\n",
       "8     OYO 483 Flagship Tamansari Panoramic Bandung\n",
       "9               OYO 295 Grha Ciumbuleuit Residence\n",
       "10                            OYO 193 SM Residence\n",
       "11              Capital O 874 Hotel Nyland Pasteur\n",
       "12                            OYO 352 Hotel Sabang\n",
       "13                                  Hilton Bandung\n",
       "14             InterContinental Bandung Dago Pakar\n",
       "15                                Aryaduta Bandung\n",
       "16               Art Deco Luxury Hotel & Residence\n",
       "17                            Crowne Plaza Bandung\n",
       "18          Best Western Premier La Grande Bandung\n",
       "19                         éL Hotel Royale Bandung\n",
       "20              Courtyard by Marriott Bandung Dago\n",
       "21                 Four Points by Sheraton Bandung\n",
       "22                     Mercure Bandung City Centre\n",
       "23                   Swiss-Belresort Dago Heritage\n",
       "24                            OYO 228 Hotel Lodaya\n",
       "25                    Prama Grand Preanger Bandung\n",
       "26                                        P Hostel\n",
       "27                  The Trans Luxury Hotel Bandung\n",
       "28                            Grand Tjokro Bandung\n",
       "29                 Grand Mercure Bandung Setiabudi\n",
       "30                   Aston Tropicana Hotel Bandung\n",
       "31                     De Paviljoen Bandung by HIM\n",
       "32                             Sensa Hotel Bandung\n",
       "33                       Ibis Bandung Trans Studio\n",
       "34                                   Aston Pasteur\n",
       "35                              The Luxton Bandung\n",
       "36                     Holiday Inn Bandung Pasteur\n",
       "37                              Hotel Savoy Homann\n",
       "38       The Jayakarta Suites Bandung, Hotel & Spa\n",
       "39                    Arion Swiss-Belhotel Bandung\n",
       "40                                    MOXY Bandung\n",
       "41                       Ibis Styles Bandung Braga\n",
       "42                    Favehotel Premier Cihampelas\n",
       "43                           De JAVA Hotel Bandung\n",
       "44                               El Cavana Bandung\n",
       "45                 Ibis Budget Bandung Asia Afrika\n",
       "46                            Ibis Bandung Pasteur\n",
       "47                                 Favehotel Braga\n",
       "48                             Ivory Hotel Bandung\n",
       "49                                  The Papandayan\n",
       "Name: nama, dtype: object"
      ]
     },
     "execution_count": 10,
     "metadata": {},
     "output_type": "execute_result"
    }
   ],
   "source": [
    "indices = pd.Series(data.index)\n",
    "indices[:50]"
   ]
  },
  {
   "cell_type": "code",
   "execution_count": 19,
   "metadata": {},
   "outputs": [],
   "source": [
    "def rekomendasi(nama, cos_sim = cos_sim):\n",
    "    \n",
    "    rec = []\n",
    "    \n",
    "    idx = indices[indices == nama].index[0]\n",
    "\n",
    "    score_series = pd.Series(cos_sim[idx]).sort_values(ascending = False)\n",
    "\n",
    "    top_10_indexes = list(score_series.iloc[1:11].index)\n",
    "    \n",
    "    for i in top_10_indexes:\n",
    "        recommended_news.append(list(data.index)[i])\n",
    "        \n",
    "    return rec"
   ]
  },
  {
   "cell_type": "code",
   "execution_count": 20,
   "metadata": {},
   "outputs": [
    {
     "ename": "IndexError",
     "evalue": "index 0 is out of bounds for axis 0 with size 0",
     "output_type": "error",
     "traceback": [
      "\u001b[1;31m---------------------------------------------------------------------------\u001b[0m",
      "\u001b[1;31mIndexError\u001b[0m                                Traceback (most recent call last)",
      "\u001b[1;32m~\\AppData\\Local\\Temp\\ipykernel_5500\\2085581049.py\u001b[0m in \u001b[0;36m<module>\u001b[1;34m\u001b[0m\n\u001b[1;32m----> 1\u001b[1;33m \u001b[0mrekomendasi\u001b[0m\u001b[1;33m(\u001b[0m\u001b[1;34m'kolam renang'\u001b[0m\u001b[1;33m)\u001b[0m\u001b[1;33m\u001b[0m\u001b[1;33m\u001b[0m\u001b[0m\n\u001b[0m",
      "\u001b[1;32m~\\AppData\\Local\\Temp\\ipykernel_5500\\3466156585.py\u001b[0m in \u001b[0;36mrekomendasi\u001b[1;34m(nama, cos_sim)\u001b[0m\n\u001b[0;32m      3\u001b[0m     \u001b[0mrec\u001b[0m \u001b[1;33m=\u001b[0m \u001b[1;33m[\u001b[0m\u001b[1;33m]\u001b[0m\u001b[1;33m\u001b[0m\u001b[1;33m\u001b[0m\u001b[0m\n\u001b[0;32m      4\u001b[0m \u001b[1;33m\u001b[0m\u001b[0m\n\u001b[1;32m----> 5\u001b[1;33m     \u001b[0midx\u001b[0m \u001b[1;33m=\u001b[0m \u001b[0mindices\u001b[0m\u001b[1;33m[\u001b[0m\u001b[0mindices\u001b[0m \u001b[1;33m==\u001b[0m \u001b[0mnama\u001b[0m\u001b[1;33m]\u001b[0m\u001b[1;33m.\u001b[0m\u001b[0mindex\u001b[0m\u001b[1;33m[\u001b[0m\u001b[1;36m0\u001b[0m\u001b[1;33m]\u001b[0m\u001b[1;33m\u001b[0m\u001b[1;33m\u001b[0m\u001b[0m\n\u001b[0m\u001b[0;32m      6\u001b[0m \u001b[1;33m\u001b[0m\u001b[0m\n\u001b[0;32m      7\u001b[0m     \u001b[0mscore_series\u001b[0m \u001b[1;33m=\u001b[0m \u001b[0mpd\u001b[0m\u001b[1;33m.\u001b[0m\u001b[0mSeries\u001b[0m\u001b[1;33m(\u001b[0m\u001b[0mcos_sim\u001b[0m\u001b[1;33m[\u001b[0m\u001b[0midx\u001b[0m\u001b[1;33m]\u001b[0m\u001b[1;33m)\u001b[0m\u001b[1;33m.\u001b[0m\u001b[0msort_values\u001b[0m\u001b[1;33m(\u001b[0m\u001b[0mascending\u001b[0m \u001b[1;33m=\u001b[0m \u001b[1;32mFalse\u001b[0m\u001b[1;33m)\u001b[0m\u001b[1;33m\u001b[0m\u001b[1;33m\u001b[0m\u001b[0m\n",
      "\u001b[1;32mD:\\anaconda3\\lib\\site-packages\\pandas\\core\\indexes\\base.py\u001b[0m in \u001b[0;36m__getitem__\u001b[1;34m(self, key)\u001b[0m\n\u001b[0;32m   5051\u001b[0m             \u001b[1;31m# GH#44051 exclude bool, which would return a 2d ndarray\u001b[0m\u001b[1;33m\u001b[0m\u001b[1;33m\u001b[0m\u001b[0m\n\u001b[0;32m   5052\u001b[0m             \u001b[0mkey\u001b[0m \u001b[1;33m=\u001b[0m \u001b[0mcom\u001b[0m\u001b[1;33m.\u001b[0m\u001b[0mcast_scalar_indexer\u001b[0m\u001b[1;33m(\u001b[0m\u001b[0mkey\u001b[0m\u001b[1;33m,\u001b[0m \u001b[0mwarn_float\u001b[0m\u001b[1;33m=\u001b[0m\u001b[1;32mTrue\u001b[0m\u001b[1;33m)\u001b[0m\u001b[1;33m\u001b[0m\u001b[1;33m\u001b[0m\u001b[0m\n\u001b[1;32m-> 5053\u001b[1;33m             \u001b[1;32mreturn\u001b[0m \u001b[0mgetitem\u001b[0m\u001b[1;33m(\u001b[0m\u001b[0mkey\u001b[0m\u001b[1;33m)\u001b[0m\u001b[1;33m\u001b[0m\u001b[1;33m\u001b[0m\u001b[0m\n\u001b[0m\u001b[0;32m   5054\u001b[0m \u001b[1;33m\u001b[0m\u001b[0m\n\u001b[0;32m   5055\u001b[0m         \u001b[1;32mif\u001b[0m \u001b[0misinstance\u001b[0m\u001b[1;33m(\u001b[0m\u001b[0mkey\u001b[0m\u001b[1;33m,\u001b[0m \u001b[0mslice\u001b[0m\u001b[1;33m)\u001b[0m\u001b[1;33m:\u001b[0m\u001b[1;33m\u001b[0m\u001b[1;33m\u001b[0m\u001b[0m\n",
      "\u001b[1;31mIndexError\u001b[0m: index 0 is out of bounds for axis 0 with size 0"
     ]
    }
   ],
   "source": [
    "rekomendasi('kolam renang')"
   ]
  },
  {
   "cell_type": "code",
   "execution_count": null,
   "metadata": {},
   "outputs": [],
   "source": []
  }
 ],
 "metadata": {
  "kernelspec": {
   "display_name": "Python 3 (ipykernel)",
   "language": "python",
   "name": "python3"
  },
  "language_info": {
   "codemirror_mode": {
    "name": "ipython",
    "version": 3
   },
   "file_extension": ".py",
   "mimetype": "text/x-python",
   "name": "python",
   "nbconvert_exporter": "python",
   "pygments_lexer": "ipython3",
   "version": "3.9.13"
  },
  "vscode": {
   "interpreter": {
    "hash": "49cb93f377a7abe7414b7b0f21fb3017538004a126cf690fb524202736b7fb92"
   }
  }
 },
 "nbformat": 4,
 "nbformat_minor": 2
}
